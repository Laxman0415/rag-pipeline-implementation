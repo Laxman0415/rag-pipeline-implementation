{
 "cells": [
  {
   "cell_type": "code",
   "execution_count": 5,
   "id": "314a2f44",
   "metadata": {},
   "outputs": [],
   "source": [
    "from data_ingestion.document_ingestion import DocumentIngestion\n",
    "import json\n",
    "import os"
   ]
  },
  {
   "cell_type": "markdown",
   "id": "c44f1275",
   "metadata": {},
   "source": [
    "#### Data Ingestion"
   ]
  },
  {
   "cell_type": "code",
   "execution_count": 2,
   "id": "6f131ac4",
   "metadata": {},
   "outputs": [
    {
     "name": "stderr",
     "output_type": "stream",
     "text": [
      "[ 2025-05-23 18:56:27,433 ] utility.custom_logger : __init__ : 20 - INFO - Document URL is : web_doc_url='https://www.gutenberg.org/cache/epub/13421/pg13421.txt'\n",
      "[ 2025-05-23 18:56:27,434 ] utility.custom_logger : get_raw_document : 28 - INFO - IN Load\n",
      "[ 2025-05-23 18:56:31,885 ] utility.custom_logger : get_raw_document : 32 - INFO - After loader.load()\n"
     ]
    }
   ],
   "source": [
    "document_ingestion = DocumentIngestion(\"https://www.gutenberg.org/cache/epub/13421/pg13421.txt\")\n",
    "document = document_ingestion.get_raw_document()"
   ]
  },
  {
   "cell_type": "code",
   "execution_count": null,
   "id": "67965046",
   "metadata": {},
   "outputs": [],
   "source": [
    "config_json = {}\n",
    "\n",
    "with open(\"C:/Users/singh/AI_Workspace/personalProjects/rag-end-to-end-pipeline-implementation/rag-pipeline-implementation/src/config/faiss_index_metadata.json\",\"w\") as fp:\n",
    "    json.dump(config_json,fp,indent=4)"
   ]
  },
  {
   "cell_type": "code",
   "execution_count": null,
   "id": "a0f8269b",
   "metadata": {},
   "outputs": [],
   "source": [
    "os.getcwd()"
   ]
  },
  {
   "cell_type": "code",
   "execution_count": 4,
   "id": "e508fb8c",
   "metadata": {},
   "outputs": [
    {
     "name": "stderr",
     "output_type": "stream",
     "text": [
      "[ 2025-05-23 18:56:52,524 ] utility.custom_logger : run_data_ingestion : 82 - INFO - index_path='faiss_index\\\\0.faiss'\n",
      "[ 2025-05-23 18:56:52,525 ] utility.custom_logger : run_data_ingestion : 88 - INFO - Loading existing FAISS index for https://www.gutenberg.org/cache/epub/13421/pg13421.txt...\n",
      "[ 2025-05-23 18:56:52,526 ] utility.custom_logger : run_data_ingestion : 90 - INFO - Knowledge Base is Already Ingested in DB\n"
     ]
    }
   ],
   "source": [
    "pre_stored_knowledge_base_flag = document_ingestion.run_data_ingestion()"
   ]
  },
  {
   "cell_type": "code",
   "execution_count": null,
   "id": "f4f02619",
   "metadata": {},
   "outputs": [],
   "source": []
  },
  {
   "cell_type": "markdown",
   "id": "a386ad44",
   "metadata": {},
   "source": [
    "### Dcoument Selection"
   ]
  },
  {
   "cell_type": "code",
   "execution_count": 1,
   "id": "531504ff",
   "metadata": {},
   "outputs": [],
   "source": [
    "from document_selection.doc_selection import ListIngestedDocuments"
   ]
  },
  {
   "cell_type": "code",
   "execution_count": 2,
   "id": "faeae31b",
   "metadata": {},
   "outputs": [],
   "source": [
    "list_ingested_documents = ListIngestedDocuments()\n",
    "ingested_document = list_ingested_documents.get_ingested_document()"
   ]
  },
  {
   "cell_type": "code",
   "execution_count": 3,
   "id": "a18dac53",
   "metadata": {},
   "outputs": [
    {
     "data": {
      "text/plain": [
       "['https://www.gutenberg.org/cache/epub/13421/pg13421.txt']"
      ]
     },
     "execution_count": 3,
     "metadata": {},
     "output_type": "execute_result"
    }
   ],
   "source": [
    "ingested_document"
   ]
  },
  {
   "cell_type": "code",
   "execution_count": null,
   "id": "8a1fbe62",
   "metadata": {},
   "outputs": [],
   "source": []
  },
  {
   "cell_type": "code",
   "execution_count": null,
   "id": "fc4bf734",
   "metadata": {},
   "outputs": [],
   "source": []
  },
  {
   "cell_type": "markdown",
   "id": "24771c6e",
   "metadata": {},
   "source": [
    "### Document Retrival"
   ]
  },
  {
   "cell_type": "code",
   "execution_count": 1,
   "id": "73e75caf",
   "metadata": {},
   "outputs": [],
   "source": [
    "from data_retrieval.retriever import DataRetriever"
   ]
  },
  {
   "cell_type": "code",
   "execution_count": 3,
   "id": "dc5375a9",
   "metadata": {},
   "outputs": [
    {
     "name": "stderr",
     "output_type": "stream",
     "text": [
      "[ 2025-05-23 19:11:00,747 ] utility.custom_logger : __init__ : 14 - INFO - Selected Document URL is : web_doc_url='https://www.gutenberg.org/cache/epub/13421/pg13421.txt'\n",
      "[ 2025-05-23 19:11:00,749 ] utility.custom_logger : get_retriver : 22 - INFO - index_filename_data={'vector_store_index': '0.faiss'}\n",
      "[ 2025-05-23 19:11:00,750 ] utility.custom_logger : get_retriver : 28 - INFO - Loading existing FAISS index for https://www.gutenberg.org/cache/epub/13421/pg13421.txt...\n",
      "[ 2025-05-23 19:11:00,751 ] utility.custom_logger : get_retriver : 30 - INFO - Knowledge Base is Already Ingested in DB\n",
      "[ 2025-05-23 19:11:00,770 ] faiss.loader : <module> : 125 - INFO - Loading faiss with AVX2 support.\n",
      "[ 2025-05-23 19:11:00,793 ] faiss.loader : <module> : 127 - INFO - Successfully loaded faiss with AVX2 support.\n",
      "[ 2025-05-23 19:11:00,799 ] faiss : <module> : 186 - INFO - Failed to load GPU Faiss: name 'GpuIndexIVFFlat' is not defined. Will not load constructor refs for GPU indexes. This is only an error if you're trying to use GPU Faiss.\n"
     ]
    }
   ],
   "source": [
    "retriever_obj = DataRetriever(\"https://www.gutenberg.org/cache/epub/13421/pg13421.txt\")\n",
    "retriever = retriever_obj.get_retriver()"
   ]
  },
  {
   "cell_type": "code",
   "execution_count": 3,
   "id": "63118f1c",
   "metadata": {},
   "outputs": [
    {
     "data": {
      "text/plain": [
       "langchain_core.vectorstores.base.VectorStoreRetriever"
      ]
     },
     "execution_count": 3,
     "metadata": {},
     "output_type": "execute_result"
    }
   ],
   "source": [
    "type(retriever)"
   ]
  },
  {
   "cell_type": "code",
   "execution_count": null,
   "id": "f9f191cb",
   "metadata": {},
   "outputs": [],
   "source": []
  },
  {
   "cell_type": "markdown",
   "id": "29434de3",
   "metadata": {},
   "source": [
    "#### Data Generation"
   ]
  },
  {
   "cell_type": "code",
   "execution_count": 1,
   "id": "68e5d871",
   "metadata": {},
   "outputs": [],
   "source": [
    "query = \"What is SYDNEY BUXTON's Amendment ?\"\n",
    "selected_document_name = \"https://www.gutenberg.org/cache/epub/13421/pg13421.txt\""
   ]
  },
  {
   "cell_type": "code",
   "execution_count": 2,
   "id": "1aa5838d",
   "metadata": {},
   "outputs": [],
   "source": [
    "from data_generation.response_generation import InvokeResponseGeneration"
   ]
  },
  {
   "cell_type": "code",
   "execution_count": 3,
   "id": "f7881a88",
   "metadata": {},
   "outputs": [
    {
     "name": "stderr",
     "output_type": "stream",
     "text": [
      "[ 2025-05-23 19:20:26,111 ] utility.custom_logger : __init__ : 14 - INFO - Selected Document URL is : web_doc_url='https://www.gutenberg.org/cache/epub/13421/pg13421.txt'\n",
      "[ 2025-05-23 19:20:26,112 ] utility.custom_logger : get_retriver : 22 - INFO - index_filename_data={'vector_store_index': '0.faiss'}\n",
      "[ 2025-05-23 19:20:26,113 ] utility.custom_logger : get_retriver : 28 - INFO - Loading existing FAISS index for https://www.gutenberg.org/cache/epub/13421/pg13421.txt...\n",
      "[ 2025-05-23 19:20:26,113 ] utility.custom_logger : get_retriver : 30 - INFO - Knowledge Base is Already Ingested in DB\n",
      "[ 2025-05-23 19:20:26,131 ] faiss.loader : <module> : 125 - INFO - Loading faiss with AVX2 support.\n",
      "[ 2025-05-23 19:20:26,155 ] faiss.loader : <module> : 127 - INFO - Successfully loaded faiss with AVX2 support.\n",
      "[ 2025-05-23 19:20:26,161 ] faiss : <module> : 186 - INFO - Failed to load GPU Faiss: name 'GpuIndexIVFFlat' is not defined. Will not load constructor refs for GPU indexes. This is only an error if you're trying to use GPU Faiss.\n",
      "[ 2025-05-23 19:20:28,930 ] httpx : _send_single_request : 1025 - INFO - HTTP Request: POST https://api.groq.com/openai/v1/chat/completions \"HTTP/1.1 200 OK\"\n"
     ]
    }
   ],
   "source": [
    "invoke = InvokeResponseGeneration(query,selected_document_name)\n",
    "response = invoke.invoke_chain()"
   ]
  },
  {
   "cell_type": "code",
   "execution_count": 4,
   "id": "42c53439",
   "metadata": {},
   "outputs": [
    {
     "data": {
      "text/plain": [
       "\"Based on the provided context, SYDNEY BUXTON's Amendment is to raise the age of child-labourers to a minimum of eleven years.\""
      ]
     },
     "execution_count": 4,
     "metadata": {},
     "output_type": "execute_result"
    }
   ],
   "source": [
    "response"
   ]
  },
  {
   "cell_type": "code",
   "execution_count": 5,
   "id": "8ca39c1c",
   "metadata": {},
   "outputs": [
    {
     "name": "stderr",
     "output_type": "stream",
     "text": [
      "[ 2025-05-23 19:22:42,105 ] utility.custom_logger : __init__ : 14 - INFO - Selected Document URL is : web_doc_url='https://www.gutenberg.org/cache/epub/13421/pg13421.txt'\n",
      "[ 2025-05-23 19:22:42,106 ] utility.custom_logger : get_retriver : 22 - INFO - index_filename_data={'vector_store_index': '0.faiss'}\n",
      "[ 2025-05-23 19:22:42,107 ] utility.custom_logger : get_retriver : 28 - INFO - Loading existing FAISS index for https://www.gutenberg.org/cache/epub/13421/pg13421.txt...\n",
      "[ 2025-05-23 19:22:42,107 ] utility.custom_logger : get_retriver : 30 - INFO - Knowledge Base is Already Ingested in DB\n",
      "[ 2025-05-23 19:22:43,628 ] httpx : _send_single_request : 1025 - INFO - HTTP Request: POST https://api.groq.com/openai/v1/chat/completions \"HTTP/1.1 200 OK\"\n"
     ]
    }
   ],
   "source": [
    "query = \"What is Irish Land Bill ? Share some details from the book\"\n",
    "selected_document_name = \"https://www.gutenberg.org/cache/epub/13421/pg13421.txt\"\n",
    "\n",
    "invoke = InvokeResponseGeneration(query,selected_document_name)\n",
    "response = invoke.invoke_chain()"
   ]
  },
  {
   "cell_type": "code",
   "execution_count": 6,
   "id": "1e089669",
   "metadata": {},
   "outputs": [
    {
     "data": {
      "text/plain": [
       "'Based on the provided book content, the Irish Land Bill is a topic of discussion and debate in the House of Commons. Here are some details from the book:\\n\\n* In Chapter 1, Brother Dick mentions that when he was in the House of Commons earlier, they were discussing the Irish Land Bill. He recalls that Prince Arthur was sprawled on the Treasury Bench, and Labby was denouncing the Bill as pernicious.\\n* In Chapter 2, Seymour Keay is described as making a speech on the Irish Land Bill, but his speech is interrupted by the Speaker and he is unable to deliver his final speech.\\n* The book also mentions that the Irish Land Bill was read a Third Time by 225 votes against 96.\\n\\nIt appears that the Irish Land Bill is a contentious issue in the House of Commons, with some members, like Labby, opposing it as pernicious, while others, like Seymour Keay, are advocating for it. However, the exact details and implications of the Bill are not specified in the provided book content.'"
      ]
     },
     "execution_count": 6,
     "metadata": {},
     "output_type": "execute_result"
    }
   ],
   "source": [
    "response"
   ]
  },
  {
   "cell_type": "code",
   "execution_count": null,
   "id": "716c35f7",
   "metadata": {},
   "outputs": [],
   "source": []
  }
 ],
 "metadata": {
  "kernelspec": {
   "display_name": "personal_projects_venv",
   "language": "python",
   "name": "python3"
  },
  "language_info": {
   "codemirror_mode": {
    "name": "ipython",
    "version": 3
   },
   "file_extension": ".py",
   "mimetype": "text/x-python",
   "name": "python",
   "nbconvert_exporter": "python",
   "pygments_lexer": "ipython3",
   "version": "3.13.2"
  }
 },
 "nbformat": 4,
 "nbformat_minor": 5
}
